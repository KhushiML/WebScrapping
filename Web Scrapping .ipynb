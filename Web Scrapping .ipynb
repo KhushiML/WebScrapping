{
 "cells": [
  {
   "cell_type": "code",
   "execution_count": 1,
   "id": "b7393841",
   "metadata": {},
   "outputs": [],
   "source": [
    "# Importing Essential Python Libraries\n",
    "import requests\n",
    "from bs4 import BeautifulSoup\n",
    "import json\n",
    "import markdown2"
   ]
  },
  {
   "cell_type": "markdown",
   "id": "e08286aa",
   "metadata": {},
   "source": [
    "# Web Scrapping From a Single Page"
   ]
  },
  {
   "cell_type": "code",
   "execution_count": 2,
   "id": "7c240338",
   "metadata": {},
   "outputs": [],
   "source": [
    "URL = 'https://www.lawyered.in/legal-disrupt/'\n",
    "res = requests.get(URL)"
   ]
  },
  {
   "cell_type": "code",
   "execution_count": 3,
   "id": "02dec6d4",
   "metadata": {},
   "outputs": [],
   "source": [
    "if res.status_code == 200:\n",
    "    html = res.content\n",
    "    soup = BeautifulSoup(html, 'html.parser')\n",
    "\n",
    "    # Extracting title and content\n",
    "    title = soup.find('h2').text\n",
    "    content = soup.find('div', class_='main-content').text\n",
    "\n",
    "    # Converting tables to Markdown\n",
    "    tables = soup.find_all('table')\n",
    "    for table in tables:\n",
    "        table.replace_with(markdown2.markdown(str(table)))\n",
    "\n",
    "    # Storing data in a dictionary\n",
    "    data = {'title': title,'content': content}\n",
    "\n",
    "    # Saving the data to a JSON file\n",
    "    with open('data2.json', 'a') as json_file:\n",
    "        json.dump(data, json_file)\n",
    "        json_file.write('\\n')\n",
    "else:\n",
    "    print(f'Failed to fetch the page: Status code')"
   ]
  },
  {
   "cell_type": "markdown",
   "id": "b278438d",
   "metadata": {},
   "source": [
    "# Web Scrapping From Multiple Pages"
   ]
  },
  {
   "cell_type": "code",
   "execution_count": 4,
   "id": "9553ece8",
   "metadata": {},
   "outputs": [
    {
     "name": "stdout",
     "output_type": "stream",
     "text": [
      "Failed to fetch the page. Status code\n"
     ]
    }
   ],
   "source": [
    "URL1 = 'https://www.lawyered.in/legal-disrupt/page/'  \n",
    "\n",
    "for page in range(1,10):\n",
    "    req = requests.get(URL1 + str(page) + '/')\n",
    "    soup = BeautifulSoup(req.text, 'html.parser')\n",
    "  \n",
    "    titles = soup.find_all('div',attrs={'class','head'})\n",
    "    content = soup.find('div', class_='main-content').text\n",
    "\n",
    "    # Converting tables to Markdown\n",
    "    tables = soup.find_all('table')\n",
    "    for table in tables:\n",
    "        table.replace_with(markdown2.markdown(str(table)))\n",
    "\n",
    "    # Storing data in a dictionary\n",
    "    data = {'title': title,'content': content}\n",
    "\n",
    "    # Saving the data to a JSON file\n",
    "    with open('data2.json', 'a') as json_file:\n",
    "        json.dump(data, json_file)\n",
    "        json_file.write('\\n')\n",
    "else:\n",
    "    print(f'Failed to fetch the page. Status code')   "
   ]
  },
  {
   "cell_type": "code",
   "execution_count": null,
   "id": "7adce33c",
   "metadata": {},
   "outputs": [],
   "source": []
  }
 ],
 "metadata": {
  "kernelspec": {
   "display_name": "Python 3 (ipykernel)",
   "language": "python",
   "name": "python3"
  },
  "language_info": {
   "codemirror_mode": {
    "name": "ipython",
    "version": 3
   },
   "file_extension": ".py",
   "mimetype": "text/x-python",
   "name": "python",
   "nbconvert_exporter": "python",
   "pygments_lexer": "ipython3",
   "version": "3.11.5"
  }
 },
 "nbformat": 4,
 "nbformat_minor": 5
}
